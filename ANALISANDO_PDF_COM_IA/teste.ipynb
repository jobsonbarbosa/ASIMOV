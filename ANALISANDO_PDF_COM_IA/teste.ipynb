{
 "cells": [
  {
   "cell_type": "code",
   "execution_count": 4,
   "metadata": {},
   "outputs": [],
   "source": [
    "\n",
    "from pathlib import Path\n",
    "from langchain_community.document_loaders import PyPDFLoader\n",
    "from langchain_community.vectorstores.faiss import FAISS\n",
    "from langchain_text_splitters import RecursiveCharacterTextSplitter\n",
    "from langchain_openai.embeddings import OpenAIEmbeddings\n",
    "from langchain_openai.chat_models import ChatOpenAI\n",
    "from langchain.memory import ConversationBufferMemory\n",
    "from langchain.chains.conversational_retrieval.base  import ConversationalRetrievalChain\n",
    "import os\n",
    "\n",
    "\n",
    "PASTA_ARQUIVOS = Path('C:/Python/ASIMOV/ANALISANDO_PDF_COM_IA/teste').parent/'arquivos'\n",
    "MODEL_NAME = 'gpt-3.5-turbo-0125'\n",
    "\n",
    "def importacao_documentos():\n",
    "    documentos = []\n",
    "    for arquivo in PASTA_ARQUIVOS.glob('*.pdf'):\n",
    "        loader = PyPDFLoader(str(arquivo))\n",
    "        documentos_arquivo = loader.load()\n",
    "        documentos.extend(documentos_arquivo)\n",
    "    return documentos\n",
    "\n",
    "def split_documentos(documentos):\n",
    "    recur_spliter = RecursiveCharacterTextSplitter(\n",
    "    chunk_size = 2500,\n",
    "    chunk_overlap = 250,\n",
    "    separators = [\"\\n\\n\", \"\\n\", \".\", \" \", \"\"]\n",
    "    )\n",
    "    documentos = recur_spliter.split_documents(documentos)\n",
    "    \n",
    "    for i, doc in enumerate(documentos):\n",
    "        doc.metadata['source'] = doc.metadata['source'].split('/')[-1]\n",
    "        doc.metadata['id'] = i\n",
    "    return documentos\n",
    "\n",
    "def cria_vector_store(documentos):\n",
    "    embedding_model = OpenAIEmbeddings()\n",
    "    vector_store = FAISS.from_documents(\n",
    "        docoments = documentos,\n",
    "        embedding = embedding_model\n",
    "    )\n",
    "    return vector_store\n",
    "\n",
    "def cria_chain_conversa(vector_strore):\n",
    "    chat = ChatOpenAI(model=MODEL_NAME)\n",
    "    memory = ConversationBufferMemory(\n",
    "        return_messages=True,\n",
    "        memory_key = 'chat_history',\n",
    "        output_key='answer'\n",
    "        )\n",
    "    retriver = vector_strore.as_retriver()\n",
    "    chat_chain = ConversationalRetrievalChain.from_llm(\n",
    "        llm = chat,\n",
    "        memory = memory,\n",
    "        retriever=retriver,\n",
    "        return_source_documents = True,\n",
    "        verbose=True\n",
    "    )\n",
    "    return chat_chain\n",
    "    "
   ]
  },
  {
   "cell_type": "code",
   "execution_count": 5,
   "metadata": {},
   "outputs": [
    {
     "ename": "TypeError",
     "evalue": "from_documents() missing 1 required positional argument: 'documents'",
     "output_type": "error",
     "traceback": [
      "\u001b[1;31m---------------------------------------------------------------------------\u001b[0m",
      "\u001b[1;31mTypeError\u001b[0m                                 Traceback (most recent call last)",
      "Cell \u001b[1;32mIn[5], line 3\u001b[0m\n\u001b[0;32m      1\u001b[0m documentos \u001b[38;5;241m=\u001b[39mimportacao_documentos()\n\u001b[0;32m      2\u001b[0m documentos \u001b[38;5;241m=\u001b[39m split_documentos(documentos)\n\u001b[1;32m----> 3\u001b[0m vector_store \u001b[38;5;241m=\u001b[39m \u001b[43mcria_vector_store\u001b[49m\u001b[43m(\u001b[49m\u001b[43mdocumentos\u001b[49m\u001b[43m)\u001b[49m\n\u001b[0;32m      4\u001b[0m chain \u001b[38;5;241m=\u001b[39m cria_chain_conversa(vector_store)\n",
      "Cell \u001b[1;32mIn[4], line 38\u001b[0m, in \u001b[0;36mcria_vector_store\u001b[1;34m(documentos)\u001b[0m\n\u001b[0;32m     36\u001b[0m \u001b[38;5;28;01mdef\u001b[39;00m \u001b[38;5;21mcria_vector_store\u001b[39m(documentos):\n\u001b[0;32m     37\u001b[0m     embedding_model \u001b[38;5;241m=\u001b[39m OpenAIEmbeddings()\n\u001b[1;32m---> 38\u001b[0m     vector_store \u001b[38;5;241m=\u001b[39m \u001b[43mFAISS\u001b[49m\u001b[38;5;241;43m.\u001b[39;49m\u001b[43mfrom_documents\u001b[49m\u001b[43m(\u001b[49m\n\u001b[0;32m     39\u001b[0m \u001b[43m        \u001b[49m\u001b[43mdocoments\u001b[49m\u001b[43m \u001b[49m\u001b[38;5;241;43m=\u001b[39;49m\u001b[43m \u001b[49m\u001b[43mdocumentos\u001b[49m\u001b[43m,\u001b[49m\n\u001b[0;32m     40\u001b[0m \u001b[43m        \u001b[49m\u001b[43membedding\u001b[49m\u001b[43m \u001b[49m\u001b[38;5;241;43m=\u001b[39;49m\u001b[43m \u001b[49m\u001b[43membedding_model\u001b[49m\n\u001b[0;32m     41\u001b[0m \u001b[43m    \u001b[49m\u001b[43m)\u001b[49m\n\u001b[0;32m     42\u001b[0m     \u001b[38;5;28;01mreturn\u001b[39;00m vector_store\n",
      "\u001b[1;31mTypeError\u001b[0m: from_documents() missing 1 required positional argument: 'documents'"
     ]
    }
   ],
   "source": [
    "documentos =importacao_documentos()\n",
    "documentos = split_documentos(documentos)\n",
    "vector_store = cria_vector_store(documentos)\n",
    "chain = cria_chain_conversa(vector_store)"
   ]
  },
  {
   "cell_type": "code",
   "execution_count": 6,
   "metadata": {},
   "outputs": [
    {
     "ename": "NameError",
     "evalue": "name 'chain' is not defined",
     "output_type": "error",
     "traceback": [
      "\u001b[1;31m---------------------------------------------------------------------------\u001b[0m",
      "\u001b[1;31mNameError\u001b[0m                                 Traceback (most recent call last)",
      "Cell \u001b[1;32mIn[6], line 1\u001b[0m\n\u001b[1;32m----> 1\u001b[0m \u001b[43mchain\u001b[49m\u001b[38;5;241m.\u001b[39minvoke({\u001b[38;5;124m\"\u001b[39m\u001b[38;5;124mquestion\u001b[39m\u001b[38;5;124m\"\u001b[39m: \u001b[38;5;124m\"\u001b[39m\u001b[38;5;124mO que é a Openai\u001b[39m\u001b[38;5;124m\"\u001b[39m})\n",
      "\u001b[1;31mNameError\u001b[0m: name 'chain' is not defined"
     ]
    }
   ],
   "source": [
    "chain.invoke({\"question\": \"O que é a Openai\"})"
   ]
  },
  {
   "cell_type": "code",
   "execution_count": null,
   "metadata": {},
   "outputs": [],
   "source": []
  }
 ],
 "metadata": {
  "kernelspec": {
   "display_name": ".venv",
   "language": "python",
   "name": "python3"
  },
  "language_info": {
   "codemirror_mode": {
    "name": "ipython",
    "version": 3
   },
   "file_extension": ".py",
   "mimetype": "text/x-python",
   "name": "python",
   "nbconvert_exporter": "python",
   "pygments_lexer": "ipython3",
   "version": "3.9.6"
  }
 },
 "nbformat": 4,
 "nbformat_minor": 2
}
